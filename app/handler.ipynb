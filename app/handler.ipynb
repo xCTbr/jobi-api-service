{
 "cells": [
  {
   "cell_type": "code",
   "execution_count": 1,
   "metadata": {},
   "outputs": [],
   "source": [
    "import json"
   ]
  },
  {
   "cell_type": "code",
   "execution_count": null,
   "metadata": {},
   "outputs": [],
   "source": [
    "def hello(event, context):\n",
    "    body = {\n",
    "        \"message\": \"Bem Vindo ao Jobi!\",\n",
    "        # \"input\": event\n",
    "    }\n",
    "\n",
    "    response = {\n",
    "        \"statusCode\": 200,\n",
    "        \"body\": json.dumps(body)\n",
    "    }\n",
    "\n",
    "    return response\n"
   ]
  },
  {
   "cell_type": "code",
   "execution_count": 2,
   "metadata": {},
   "outputs": [],
   "source": [
    "body = {\n",
    "        \"message\": \"Bem Vindo ao Jobi!\",\n",
    "        # \"input\": event\n",
    "    }\n",
    "\n",
    "response = {\n",
    "        \"statusCode\": 200,\n",
    "        \"body\": json.dumps(body)\n",
    "}"
   ]
  },
  {
   "cell_type": "code",
   "execution_count": 4,
   "metadata": {},
   "outputs": [
    {
     "name": "stdout",
     "output_type": "stream",
     "text": [
      "{'statusCode': 200, 'body': '{\"message\": \"Bem Vindo ao Jobi!\"}'}\n"
     ]
    }
   ],
   "source": [
    "print(response)"
   ]
  },
  {
   "cell_type": "code",
   "execution_count": 10,
   "metadata": {},
   "outputs": [
    {
     "name": "stdout",
     "output_type": "stream",
     "text": [
      "Bem Vindo ao Jobi!\n"
     ]
    }
   ],
   "source": [
    "print(json.loads(response['body'])['message'])"
   ]
  }
 ],
 "metadata": {
  "kernelspec": {
   "display_name": "Python 3.8.8 ('base')",
   "language": "python",
   "name": "python3"
  },
  "language_info": {
   "codemirror_mode": {
    "name": "ipython",
    "version": 3
   },
   "file_extension": ".py",
   "mimetype": "text/x-python",
   "name": "python",
   "nbconvert_exporter": "python",
   "pygments_lexer": "ipython3",
   "version": "3.8.8"
  },
  "orig_nbformat": 4,
  "vscode": {
   "interpreter": {
    "hash": "535f74dccd9354bd52a513d56fba6d4538db51ef47877c110901cf980adcd29b"
   }
  }
 },
 "nbformat": 4,
 "nbformat_minor": 2
}
